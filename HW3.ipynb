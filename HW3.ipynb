{
  "cells": [
    {
      "cell_type": "markdown",
      "metadata": {
        "id": "KdHI8a1S9iUn"
      },
      "source": [
        "# ORIE 4580/5580/5581 Assignment 3\n",
        "\n",
        "#### Students: Yiran Wang (yw2588)\n",
        "\n",
        "### Github link: [example Github link](https://github.com/SidBanerjee/ORIE4580-Simulation/blob/main/Notebooks/Unit0-Intro_Demos.ipynb)\n"
      ]
    },
    {
      "cell_type": "markdown",
      "source": [
        "### Instructions\n",
        "\n",
        "\n",
        "* Due Friday September 22, at 11.59am on Gradescope.\n",
        "* Assignment .ipynb files available for download on [Canvas](https://canvas.cornell.edu/courses/56826#:~:text=Assignments-,Assignments,-Assignments%20Module%20publish). Do all your work in provided notebook (text answers typeset in markdown; show all required code and generate plots inline), and then generate and submit a pdf.\n",
        "* Ideally do assignments in groups of 2, and submit a single pdf with both names\n",
        "* Please show your work and clearly mark your answers.\n",
        "* You can use any code fragments given in class, found online (for example, on StackOverflow), or generated via Bard or ChatGPT (you are encouraged to use these for first drafts) **with proper referencing**. You can also discuss with others (again, please reference them if you do so); but you must write your final answers on your own as a team.\n",
        "\n",
        "\n",
        "\n",
        "### Suggested reading\n",
        "\n",
        "Chapters 7 (you can skim through this), and chapters 8 and 9 of [Introduction to Probability](https://chance.dartmouth.edu/teaching_aids/books_articles/probability_book/book.html) by Grinstead and Snell.\n",
        "\n",
        "Chapter 3 and chapter 4 (up to section 4.5) of [Simulation by Ross](https://catalog.library.cornell.edu/catalog/12745977)."
      ],
      "metadata": {
        "id": "SWIW16cwI0bB"
      }
    },
    {
      "cell_type": "code",
      "source": [
        "#importing necessary packages\n",
        "import numpy as np\n",
        "import matplotlib.pyplot as plt\n",
        "import scipy.stats\n",
        "%matplotlib inline"
      ],
      "metadata": {
        "id": "upFYbOmHI4Uv"
      },
      "execution_count": 1,
      "outputs": []
    },
    {
      "cell_type": "markdown",
      "metadata": {
        "id": "lAy475sN9iUs"
      },
      "source": [
        "___\n",
        "___\n",
        "\n",
        "## Question 1: Combining LCGs (20 points)\n",
        "\n",
        "In order to avoid biases, simulations should not use anywhere near the full period of an LCG (otherwise, the random sequence repeats\\ldots). For example, a typical traffic simulator may have $10,000$ vehicles, each experiencing thousands of random disturbances, thus needing around $10^7$ random samples per replication -- for this, an LCG using $m=2^{31}-1\\approx 2\\times 10^9$ is insufficient, as after $100$ replications the sequences get correlated.\n",
        "\n",
        "One method to combine multiple LCGs to obtain a generator with a longer period is to add a smaller period LCG to it. For example, suppose we have two generators $X_{n+1}  =  (a_1 X_n) \\mbox{ mod } m_1$ and $Y_{n+1}  =  (a_2 Y_n) \\mbox{ mod } m_2$, with $m_1>m_2$. We can derive a combined generator by setting $Z_n  =  (X_n + Y_n) \\mbox{ mod } m_1$. If properly designed, the resulting period can be on the order of $m_1m_2$. We will now study a small example to see how this works.\n"
      ]
    },
    {
      "cell_type": "markdown",
      "metadata": {
        "id": "-geWMEJp9iUt"
      },
      "source": [
        "___\n",
        "**(a)** Consider two LCGs, $x_{n+1} = (5 x_n) \\mod 16$ and $y_{n+1} = (2 y_n) \\mod 7$. Starting both with seed $x_0 = y_0 = 1$, plot the sequences $x_n, y_n$ using the clock visualization introduced in class (separate plot for each sequence; you can use and modify the code in Demo-PRNGs.ipynb on Canvas).\n",
        "___"
      ]
    },
    {
      "cell_type": "code",
      "execution_count": 136,
      "metadata": {
        "id": "5jsoc-t6D-Q7"
      },
      "outputs": [],
      "source": [
        "# Functions to visualize LCG sequence on clock (see demo notebook)\n",
        "def plot_clock_face(m, fig, annotate=False):\n",
        "    \"\"\"\n",
        "    Plot points on a unit circle representing the LCG sequence on a clock face.\n",
        "\n",
        "    Parameters:\n",
        "    m (int): The modulus value for the LCG sequence.\n",
        "    fig (matplotlib.figure.Figure): The figure object to draw on.\n",
        "    annotate (bool): Whether to annotate points with their index.\n",
        "\n",
        "    Returns:\n",
        "    None\n",
        "    \"\"\"\n",
        "    # Plot m points on the unit circle\n",
        "    for i in range(m):\n",
        "        theta = 2.0 * np.pi * i / m\n",
        "        plt.plot(np.sin(theta), np.cos(theta), 'rs', markersize = 10)\n",
        "        if annotate:\n",
        "            plt.annotate(str(i), (np.pi/2 - theta, 1.05), xycoords='polar')\n",
        "\n",
        "def plot_clock_path(m, x, fig, color='y'):\n",
        "    \"\"\"\n",
        "    Plot the path of an LCG sequence on a clock face.\n",
        "\n",
        "    Parameters:\n",
        "    m (int): The modulus value for the LCG sequence.\n",
        "    x (numpy.ndarray): The LCG sequence.\n",
        "    fig (matplotlib.figure.Figure): The figure object to draw on.\n",
        "    color (str): The color for the path.\n",
        "\n",
        "    Returns:\n",
        "    None\n",
        "    \"\"\"\n",
        "    # Plot the seed node\n",
        "    theta_0 = 2.0 * np.pi * (x[0] * (m + 1) - 1) / m\n",
        "    plt.plot(np.sin(theta_0), np.cos(theta_0), 'gs', markersize = 10)\n",
        "\n",
        "    # Plot the path of the LCG sequence\n",
        "    for i in range(len(x) - 1):\n",
        "        theta_start = 2.0 * np.pi * (x[i] * (m + 1) - 1) / m\n",
        "        theta_end = 2.0 * np.pi * (x[i + 1] * (m + 1) - 1) / m\n",
        "        x_start = np.sin(theta_start)\n",
        "        y_start = np.cos(theta_start)\n",
        "        del_x = np.sin(theta_end) - np.sin(theta_start)\n",
        "        del_y = np.cos(theta_end) - np.cos(theta_start)\n",
        "        if abs(del_x) > 0 or abs(del_y) > 0:\n",
        "            plt.arrow(x_start, y_start, del_x, del_y,\n",
        "                      length_includes_head=True, head_width=0.05, head_length=0.1, fc=color, ec=color)\n"
      ]
    },
    {
      "cell_type": "code",
      "execution_count": 5,
      "metadata": {
        "id": "GRvFbLtFEC16"
      },
      "outputs": [],
      "source": [
        "def LCG(n, m=2**31-1, a=1103515245, c=12345, seed=1):\n",
        "    \"\"\"\n",
        "    Generate a pseudorandom sequence using a Linear Congruential Generator (LCG).\n",
        "\n",
        "    Parameters:\n",
        "    n (int): The number of pseudorandom numbers to generate.\n",
        "    m (int): The modulus value (default is 2^31-1, following glibc specifications).\n",
        "    a (int): The multiplier value (default is 1103515245, following glibc specifications).\n",
        "    c (int): The increment value (default is 12345, following glibc specifications).\n",
        "    seed (int): The initial seed value (default is 1).\n",
        "\n",
        "    Returns:\n",
        "    numpy.ndarray: An array of pseudorandom numbers in the range [0, 1).\n",
        "    \"\"\"\n",
        "    # Initialize an array to store the generated pseudorandom numbers\n",
        "    output = np.zeros(n)\n",
        "\n",
        "    x = seed\n",
        "    for i in range(n):\n",
        "        # Calculate the pseudorandom number and normalize it to [0, 1)\n",
        "        output[i] = (x + 1.0) / (m + 1.0)\n",
        "\n",
        "        # Update the LCG state using the specified parameters\n",
        "        x = (a * x + c) % m\n",
        "\n",
        "    return output"
      ]
    },
    {
      "cell_type": "code",
      "execution_count": 7,
      "metadata": {
        "id": "b2hOTeOyEEkI",
        "colab": {
          "base_uri": "https://localhost:8080/",
          "height": 653
        },
        "outputId": "7cf105cc-6201-45ed-e6d7-6d17b752be6e"
      },
      "outputs": [
        {
          "output_type": "display_data",
          "data": {
            "text/plain": [
              "<Figure size 1400x800 with 1 Axes>"
            ],
            "image/png": "[encoded data removed]"
          },
          "metadata": {}
        }
      ],
      "source": [
        "# Ans\n",
        "m = 16\n",
        "a = 5\n",
        "c = 0\n",
        "seed = 1\n",
        "\n",
        "fig = plt.figure(figsize=(14,8))\n",
        "x = LCG(n=m+1,m=m,a=a,c=c,seed = seed)\n",
        "\n",
        "plot_clock_face(m,fig,annotate = True)\n",
        "plot_clock_path(m,x,fig)\n",
        "plt.axis('equal')\n",
        "plt.axis('off')\n",
        "plt.show()"
      ]
    },
    {
      "cell_type": "code",
      "source": [
        "# Ans\n",
        "m = 7\n",
        "a = 2\n",
        "c = 0\n",
        "seed = 1\n",
        "\n",
        "fig = plt.figure(figsize=(14,8))\n",
        "x = LCG(n=m+1,m=m,a=a,c=c,seed = seed)\n",
        "\n",
        "plot_clock_face(m,fig,annotate = True)\n",
        "plot_clock_path(m,x,fig)\n",
        "plt.axis('equal')\n",
        "plt.axis('off')\n",
        "plt.show()"
      ],
      "metadata": {
        "colab": {
          "base_uri": "https://localhost:8080/",
          "height": 653
        },
        "id": "qmt99G0qSEv8",
        "outputId": "07add837-2b27-4f7e-e888-ae26a5b8a2e8"
      },
      "execution_count": 8,
      "outputs": [
        {
          "output_type": "display_data",
          "data": {
            "text/plain": [
              "<Figure size 1400x800 with 1 Axes>"
            ],
            "image/png": "[encoded data removed]"
          },
          "metadata": {}
        }
      ]
    },
    {
      "cell_type": "markdown",
      "metadata": {
        "id": "FDfX7mQz9iUv"
      },
      "source": [
        "___\n",
        "**(b)** Next, define a combined LCG as $z_{n} = (x_n+y_n) \\mod 16$. Starting both the base LCGs with seed $x_0 = y_0 = 1$, plot the sequence $z_n$ using the clock visualization given in class.\n",
        "___"
      ]
    },
    {
      "cell_type": "code",
      "execution_count": 137,
      "metadata": {
        "id": "pLwpyLwZEIHk"
      },
      "outputs": [],
      "source": [
        "# Function to generate pseudorandom sequence using LCG\n",
        "# Set default parameters to glibc specifications (see demo notebook)\n",
        "def twoLCG(n, m1=16, m2=7, a1=5, a2=2, c1=0, c2=0, seed1=1, seed2=1):\n",
        "    output = np.zeros(n)\n",
        "    x = seed1\n",
        "    y = seed2\n",
        "    z = (x+y) % m1\n",
        "    for i in range(n):\n",
        "        # Calculate the pseudorandom number and normalize it to [0, 1)\n",
        "        output[i] = (z + 1.0)/(m1 + 1.0)\n",
        "\n",
        "        # Update the LCG state using the specified parameters\n",
        "        x = (a1 * x + c1) % m1\n",
        "        y = (a2 * y + c2) % m2\n",
        "        z = (x + y) % m1\n",
        "\n",
        "    return output"
      ]
    },
    {
      "cell_type": "code",
      "source": [
        "# Ans\n",
        "m1 = 16\n",
        "m2 = 7\n",
        "a1 = 5\n",
        "a2 = 2\n",
        "c1 = 0\n",
        "c2 = 0\n",
        "seed1 = 1\n",
        "seed2 = 1\n",
        "\n",
        "fig = plt.figure(figsize=(14,8))\n",
        "z = twoLCG(n=m1+1,m1=m1,m2=m2,a1=a1,a2=a2,c1=c1,c2=c2,seed1=seed1,seed2 = seed2)\n",
        "\n",
        "plot_clock_face(m1,fig,annotate = True)\n",
        "plot_clock_path(m1,z,fig)\n",
        "plt.axis('equal')\n",
        "plt.axis('off')\n",
        "plt.show()"
      ],
      "metadata": {
        "colab": {
          "base_uri": "https://localhost:8080/",
          "height": 653
        },
        "id": "CGTa8SzySXhp",
        "outputId": "a320009b-dc45-4a6b-9d7d-09958fbbb65e"
      },
      "execution_count": 140,
      "outputs": [
        {
          "output_type": "display_data",
          "data": {
            "text/plain": [
              "<Figure size 1400x800 with 1 Axes>"
            ],
            "image/png": "[encoded data removed]"
          },
          "metadata": {}
        }
      ]
    },
    {
      "cell_type": "markdown",
      "metadata": {
        "id": "W7FAnv8z9iUx"
      },
      "source": [
        "___\n",
        "**(c)** What are the periods of the pseudo-random sequences $x_n, y_n$ and $z_n$?\n",
        "___"
      ]
    },
    {
      "cell_type": "markdown",
      "source": [
        "### Ans.\n"
      ],
      "metadata": {
        "id": "XAWLfsGGMO7X"
      }
    },
    {
      "cell_type": "markdown",
      "source": [
        "The period for $x_n$, $y_n$, and $z_n$ are $4$, $3$, $12$ respectively."
      ],
      "metadata": {
        "id": "Au8fJpBWSxEL"
      }
    },
    {
      "cell_type": "markdown",
      "metadata": {
        "id": "wmL74RyC9iUz"
      },
      "source": [
        "___\n",
        "___\n",
        "## Question 2: inverting cdfs (25 pts)\n",
        "\n",
        "In class, we defined $F^{-1}(y)$ for a continuous increasing cdf $F(x)$ as the unique $x$ such that $F(x) = y$ (for $y\\in[0,1]$). More generally, for any cdf $F$ we can use the inversion method based on its generalized inverse or *pseudoinverse*:\n",
        "\t$$F^{-1}(y) = \\inf\\{x|F(x)\\geq y\\}$$\n",
        "\t(where $\\inf$ denotes the \\href{https://en.wikipedia.org/wiki/Infimum_and_supremum}{infimum}; if you have not seen this before, treat it as minimum).\n"
      ]
    },
    {
      "cell_type": "markdown",
      "metadata": {
        "id": "k8gt9TWM9iU0"
      },
      "source": [
        "___\n",
        "**(a)** Find the pseudoinverse $F^{-1}(y)$ for the following mixed (discrete/continuous) cdf\n",
        "\t$$F(x)=\n",
        "\t\\begin{cases}\n",
        "\t0 & \\mbox{for $x < 0$}\\\\\n",
        "\tx & \\mbox{for $0 \\leq x < \\frac{1}{2}$}, \\\\\n",
        "\t\\frac{1}{2} & \\mbox{for $\\frac{1}{2}\\leq x < 1$}, \\\\\n",
        "\t1 & \\mbox{for $x\\geq 1$}\n",
        "\t \\end{cases}$$\n",
        "___"
      ]
    },
    {
      "cell_type": "markdown",
      "source": [
        "### Ans.\n"
      ],
      "metadata": {
        "id": "h4Vtj9TBMr6A"
      }
    },
    {
      "cell_type": "markdown",
      "source": [
        "$$F^{-1}(x)=\n",
        "\\begin{cases}\n",
        "    x & \\mbox{for $0 \\leq x < \\frac{1}{2}$}, \\\\\n",
        "    \\frac{1}{2} & \\mbox{for $\\frac{1}{2} \\leq x < 1$}, \\\\\n",
        "    1 & \\mbox{for $x = 1$}\n",
        "\\end{cases}$$"
      ],
      "metadata": {
        "id": "68olg9tzTY5x"
      }
    },
    {
      "cell_type": "markdown",
      "metadata": {
        "id": "z5IrvAkx9iU1"
      },
      "source": [
        "___\n",
        "**(b)** Use the above definition to get an inversion algorithm for the $Geometric(p)$ distribution (with pmf $p(k) = p(1-p)^{k-1}\\,\\forall\\,k\\in\\{1,2,3,\\ldots\\}$). Implement this, and generate and plot the histogram of 1000 samples from a $Geometric(0.42)$ distribution.\n",
        "(For this, it may be useful for you to first understand how the [scipy.stats](https://docs.scipy.org/doc/scipy/reference/stats.html) library works, and in particular, how it provides methods to compute various statistics for many different random variables, including the [geometric r.v.](https://docs.scipy.org/doc/scipy/reference/generated/scipy.stats.geom.html#scipy.stats.geom))\n",
        "___"
      ]
    },
    {
      "cell_type": "markdown",
      "source": [
        "$F(k)=\\mathbb P(X \\leq k) = \\sum_{i=1}^kp(i)=p\\sum_{i=1}^k (1-p)^{i-1}=p \\frac{1-(1-p)^k}{1-(1-p)}=1-(1-p)^k$\n",
        "\n",
        "$F^{-1}(x)=\\lceil log_{1-p} (1-x)⌉=\\lceil\\frac{ln(1-x))}{ln(1-p)}⌉$"
      ],
      "metadata": {
        "id": "TxinR9LbUeWn"
      }
    },
    {
      "cell_type": "code",
      "execution_count": 11,
      "metadata": {
        "id": "JQIulHgEJrwz"
      },
      "outputs": [],
      "source": [
        "def inverseCDF(x,p):\n",
        "  result = np.log(1-x)/np.log(1-p)\n",
        "  return np.ceil(result)\n",
        "\n",
        "def generate(N,p):\n",
        "  u = np.random.uniform(0,1,N)\n",
        "  x = inverseCDF(u,p)\n",
        "  return x\n"
      ]
    },
    {
      "cell_type": "code",
      "source": [
        "samples = generate(1000,0.42)\n",
        "plt.hist(samples,density=True)"
      ],
      "metadata": {
        "colab": {
          "base_uri": "https://localhost:8080/",
          "height": 502
        },
        "id": "kHMRcnbVXzdc",
        "outputId": "28fcf0c1-d19e-4519-ac4a-fa1127f26802"
      },
      "execution_count": 15,
      "outputs": [
        {
          "output_type": "execute_result",
          "data": {
            "text/plain": [
              "(array([0.56      , 0.11666667, 0.07833333, 0.0375    , 0.015     ,\n",
              "        0.01666667, 0.00416667, 0.00333333, 0.00083333, 0.00083333]),\n",
              " array([ 1. ,  2.2,  3.4,  4.6,  5.8,  7. ,  8.2,  9.4, 10.6, 11.8, 13. ]),\n",
              " <BarContainer object of 10 artists>)"
            ]
          },
          "metadata": {},
          "execution_count": 15
        },
        {
          "output_type": "display_data",
          "data": {
            "text/plain": [
              "<Figure size 640x480 with 1 Axes>"
            ],
            "image/png": "[encoded data removed]"
          },
          "metadata": {}
        }
      ]
    },
    {
      "cell_type": "markdown",
      "metadata": {
        "id": "TRn55xOT9iU3"
      },
      "source": [
        "___\n",
        "**(c)** The p.d.f. of the random variable $X$ is given by\n",
        "\t$$\n",
        "\tf(x) =\n",
        "\t\\begin{cases}\n",
        "\t\te^{x-2} & \\text{for }0 \\leq x \\leq 2, \\\\\n",
        "\t\te^{-x} & \\text{for }x > 2, \\\\\n",
        "\t\t0 & \\text{otherwise,}\n",
        "\t\\end{cases}\n",
        "\t$$\n",
        "\tDescribe and implement an inversion algorithm to generate samples of $X$. Generate 1,000 samples and plot a histogram. Compare the histogram and the p.d.f.\n"
      ]
    },
    {
      "cell_type": "markdown",
      "source": [
        "___\n",
        "\n",
        "### Ans."
      ],
      "metadata": {
        "id": "dNmGPdu8OaiK"
      }
    },
    {
      "cell_type": "markdown",
      "source": [
        "$$\n",
        "\tF(x) =\n",
        "    \\begin{cases}\n",
        "      e^{x-2}-e^{-2} & \\text{for }0 \\leq x \\leq 2, \\\\\n",
        "      1-e^{-x} & \\text{for }x > 2, \\\\\n",
        "      0 & \\text{otherwise}\n",
        "    \\end{cases}\n",
        "$$\n",
        "\n",
        "$$\n",
        "\tF^{-1}(x) =\n",
        "    \\begin{cases}\n",
        "      2+ln(x+e^{-2}) & \\text{for }0 \\leq x \\leq 1-e^{-2}, \\\\\n",
        "      -ln(1-x) & \\text{for }1-e^{-2} < x \\leq 1\n",
        "    \\end{cases}\n",
        "$$"
      ],
      "metadata": {
        "id": "sKQjJdxgY8MH"
      }
    },
    {
      "cell_type": "code",
      "source": [
        "def inverseCDF1(x):\n",
        "  result = []\n",
        "  for i in range(len(x)):\n",
        "    if x[i]<1-np.exp(-2):\n",
        "      result.append(2+np.log(x[i]+np.exp(-2)))\n",
        "    else:\n",
        "      result.append(-np.log(1-x[i]))\n",
        "  return result\n",
        "\n",
        "def generate1(N):\n",
        "  u = np.random.uniform(0,1,N)\n",
        "  x = inverseCDF1(u)\n",
        "  return x\n",
        "\n",
        "def PDF(x):\n",
        "  result=np.zeros(len(x))\n",
        "  for i in range(len(x)):\n",
        "    if x[i]<=2 and x[i]>=0:\n",
        "      result[i]=(np.exp(x[i]-2))\n",
        "    elif x[i]>2:\n",
        "      result[i]=(np.exp(-x[i]))\n",
        "\n",
        "  return result"
      ],
      "metadata": {
        "id": "NaxHK_Q7Y76J"
      },
      "execution_count": 40,
      "outputs": []
    },
    {
      "cell_type": "code",
      "execution_count": 43,
      "metadata": {
        "id": "2bF1VUkGJEpI",
        "colab": {
          "base_uri": "https://localhost:8080/",
          "height": 430
        },
        "outputId": "3be26529-f09f-486c-909f-f296c2c8c5ac"
      },
      "outputs": [
        {
          "output_type": "display_data",
          "data": {
            "text/plain": [
              "<Figure size 640x480 with 1 Axes>"
            ],
            "image/png": "[encoded data removed]"
          },
          "metadata": {}
        }
      ],
      "source": [
        "x = np.linspace(0,10,100)\n",
        "y = PDF(x)\n",
        "\n",
        "samples1 = generate1(1000)\n",
        "plt.hist(samples1,density=True)\n",
        "plt.plot(x,y)\n",
        "plt.show()"
      ]
    },
    {
      "cell_type": "markdown",
      "metadata": {
        "id": "UqMEV_6i9iU4"
      },
      "source": [
        "___\n",
        "___\n",
        "\n",
        "## Question 3: Acceptance-Rejection (25 pts)\n",
        "\n",
        "Let the random variable $X$ have density\n",
        "$$f(x) = \\begin{cases} (5 x^4 + 4x^3 + 3x^2+1)/4  & \\text{ for } 0 \\leq x \\leq 1, \\\\\n",
        "0 & \\text{ otherwise. } \\end{cases}$$"
      ]
    },
    {
      "cell_type": "markdown",
      "metadata": {
        "id": "dNp6yFaQ9iU5"
      },
      "source": [
        "___\n",
        "**(a)** Give an acceptance-rejection algorithm to generate samples of\n",
        "\t$X$.\n",
        "\n",
        "___"
      ]
    },
    {
      "cell_type": "markdown",
      "metadata": {
        "id": "AKnYl0kLLd37"
      },
      "source": [
        "### Ans.\n"
      ]
    },
    {
      "cell_type": "code",
      "source": [
        "x = np.linspace(0,1,100)\n",
        "y = f(x)\n",
        "\n",
        "print(max(y)) #3.25\n",
        "# generate u ~ [0,1] times [0,3.25]"
      ],
      "metadata": {
        "colab": {
          "base_uri": "https://localhost:8080/"
        },
        "id": "2Fss_FlCmP2y",
        "outputId": "887bc8e3-4f54-4d86-ea11-4051ef50de74"
      },
      "execution_count": 97,
      "outputs": [
        {
          "output_type": "stream",
          "name": "stdout",
          "text": [
            "3.25\n"
          ]
        }
      ]
    },
    {
      "cell_type": "code",
      "execution_count": 105,
      "metadata": {
        "id": "y1c8ExQxLdEB"
      },
      "outputs": [],
      "source": [
        "# generate X, U\n",
        "# if U<f(x), accept\n",
        "# else, reject\n",
        "\n",
        "def f(x):\n",
        "  result = []\n",
        "  for i in range(len(x)):\n",
        "    if 0 <= x[i] and x[i]<=1:\n",
        "      result.append((5*x[i]**4+4*x[i]**3+3*x[i]**2+1)/4)\n",
        "    else:\n",
        "      result.append(0)\n",
        "  return result\n",
        "\n",
        "def accRej(N):\n",
        "  X = []\n",
        "  i = 0\n",
        "  while len(X) < N:\n",
        "    i += 1\n",
        "    u1 = np.random.uniform(0,1,1)\n",
        "    fu1 = (5*u1[0]**4+4*u1[0]**3+3*u1[0]**2+1)/4\n",
        "    u2 = np.random.uniform(0,3.25,1)\n",
        "    if u2 <= fu1:\n",
        "      X.append(u1[0])\n",
        "\n",
        "  return i*2,X"
      ]
    },
    {
      "cell_type": "code",
      "source": [
        "numbers,samples_q3 = accRej(10000)\n",
        "numbers"
      ],
      "metadata": {
        "colab": {
          "base_uri": "https://localhost:8080/"
        },
        "id": "AIgREnBr2BaI",
        "outputId": "1caf6492-1183-4e02-da19-f59608609364"
      },
      "execution_count": 112,
      "outputs": [
        {
          "output_type": "execute_result",
          "data": {
            "text/plain": [
              "65380"
            ]
          },
          "metadata": {},
          "execution_count": 112
        }
      ]
    },
    {
      "cell_type": "markdown",
      "metadata": {
        "id": "96QbSXGn9iU8"
      },
      "source": [
        "___\n",
        "**(b)** On average, how many samples from the uniform distribution over $[0, 1]$ would your acceptance-rejection algorithm need in order to generate one sample of $X$?\n",
        "___"
      ]
    },
    {
      "cell_type": "markdown",
      "source": [
        "### Ans.\n"
      ],
      "metadata": {
        "id": "w64tpH0bO_Hb"
      }
    },
    {
      "cell_type": "markdown",
      "source": [
        "Because in (a) we generate using $M=3.25$, the expected numbers should be $2M=6.5$.\n",
        "\n",
        "Also, according to the simulation in (a), the numbers of generations need for one sample of $X$ is approximately $6.5$, which aligns with theory."
      ],
      "metadata": {
        "id": "aJn-XM1w22Hw"
      }
    },
    {
      "cell_type": "markdown",
      "metadata": {
        "id": "YudPqIiq9iU9"
      },
      "source": [
        "___\n",
        "**(c)** Use your algorithm in (a) to generate 2,500 samples of $X$. Note that this will require more than 2500 uniform random variables.\n",
        "\n",
        "Plot a histogram of your sample   and compare it against the true pdf.\n",
        "___\n"
      ]
    },
    {
      "cell_type": "code",
      "execution_count": 119,
      "metadata": {
        "id": "7-qoF2L_LmIF",
        "colab": {
          "base_uri": "https://localhost:8080/",
          "height": 430
        },
        "outputId": "4186dcb8-b976-451b-ab11-75e0930dbbb3"
      },
      "outputs": [
        {
          "output_type": "display_data",
          "data": {
            "text/plain": [
              "<Figure size 640x480 with 1 Axes>"
            ],
            "image/png": "[encoded data removed]"
          },
          "metadata": {}
        }
      ],
      "source": [
        "x = np.linspace(0,1,100)\n",
        "y = f(x)\n",
        "\n",
        "numbers,samples_q3c = accRej(2500)\n",
        "plt.hist(samples_q3c,density=True)\n",
        "plt.plot(x,y)\n",
        "plt.xlim(0,1)\n",
        "plt.show()"
      ]
    },
    {
      "cell_type": "markdown",
      "metadata": {
        "id": "zI57JDhK9iU_"
      },
      "source": [
        "___\n",
        "___\n",
        "\n",
        "## Question 4: Generalized Acceptance-Rejection (30 pts)\n",
        "\n",
        "We want to generate a $\\mathcal{N}(0,1)$ rv $X$, with pdf\n",
        "$f(x) = \\frac{e^{-x^2/2}}{\\sqrt{2\\pi}} $,\n",
        "using generalized acceptance-rejection."
      ]
    },
    {
      "cell_type": "markdown",
      "metadata": {
        "id": "ycCxosPw9iVA"
      },
      "source": [
        "___\n",
        "\n",
        "**(a)** First, suppose we choose the proposal distribution to be a \\emph{Laplace} (i.e., two-sided Exponential) distribution, which has pdf $g(x) = e^{-|x|}/2$. Describe (and implement) an inversion algorithm to get samples from this distribution.\n",
        "___"
      ]
    },
    {
      "cell_type": "markdown",
      "source": [
        "$$G(x)=\\int_{-\\infty}^{x}\\frac{e^{-|t|}}{2}dt=\n",
        "\t\\begin{cases}\n",
        "    \\frac{e^x}{2} & \\mbox{for $x \\leq 0$},\\\\\n",
        "    1-\\frac{e^{-x}}{2} & \\mbox{for $x > 0$}\n",
        "  \\end{cases}$$\n",
        "\n",
        "$$G^{-1}(x)=\n",
        "\t\\begin{cases}\n",
        "    ln(2x) & \\mbox{for $x \\leq \\frac{1}{2}$},\\\\\n",
        "    -ln(2(1-x)) & \\mbox{for $x > \\frac{1}{2}$}\n",
        "  \\end{cases}$$"
      ],
      "metadata": {
        "id": "5vpxzoaLJgyM"
      }
    },
    {
      "cell_type": "code",
      "execution_count": 69,
      "metadata": {
        "id": "iUMdO2jTDC5n"
      },
      "outputs": [],
      "source": [
        "def inverseCDFG(x):\n",
        "  result = []\n",
        "  for i in range(len(x)):\n",
        "    if (x[i] <= 0.5):\n",
        "      result.append(np.log(2*x[i]))\n",
        "    else:\n",
        "      result.append(-np.log(2-2*x[i]))\n",
        "  return result\n",
        "\n",
        "def generate_4a(N):\n",
        "  u = np.random.uniform(0,1,N)\n",
        "  x = inverseCDFG(u)\n",
        "  return x"
      ]
    },
    {
      "cell_type": "code",
      "source": [
        "samples_4a = generate_4a(1000)\n",
        "plt.hist(samples_4a,density=True)"
      ],
      "metadata": {
        "colab": {
          "base_uri": "https://localhost:8080/",
          "height": 538
        },
        "id": "ZHkOT_JJLMRG",
        "outputId": "41a02224-0fdc-40a0-9360-e0a31bfb0c26"
      },
      "execution_count": 72,
      "outputs": [
        {
          "output_type": "execute_result",
          "data": {
            "text/plain": [
              "(array([0.00061751, 0.        , 0.00370506, 0.0117327 , 0.06236855,\n",
              "        0.32728053, 0.1772255 , 0.02840548, 0.00370506, 0.00247004]),\n",
              " array([-9.35114987, -7.73174404, -6.11233822, -4.4929324 , -2.87352657,\n",
              "        -1.25412075,  0.36528508,  1.9846909 ,  3.60409672,  5.22350255,\n",
              "         6.84290837]),\n",
              " <BarContainer object of 10 artists>)"
            ]
          },
          "metadata": {},
          "execution_count": 72
        },
        {
          "output_type": "display_data",
          "data": {
            "text/plain": [
              "<Figure size 640x480 with 1 Axes>"
            ],
            "image/png": "[encoded data removed]"
          },
          "metadata": {}
        }
      ]
    },
    {
      "cell_type": "markdown",
      "metadata": {
        "id": "w5uME6KO9iVB"
      },
      "source": [
        "___\n",
        "**(b)** Determine the smallest $k$ such that $kg(x)\\geq f(x)\\,\\forall\\,x\\in\\mathbb{R}$. Using this, propose (and implement) an acceptance-rejection algorithm for sampling $X\\sim\\mathcal{N}(0,1)$, and compute the expected number of samples needed for generating each sample.\n",
        "___"
      ]
    },
    {
      "cell_type": "markdown",
      "source": [
        "### Ans."
      ],
      "metadata": {
        "id": "4Y-Qm3x-PbmM"
      }
    },
    {
      "cell_type": "markdown",
      "source": [
        "Because $g(x)$ is positive, we evaluate the maximum of $\\frac{f(x)}{g(x)}$.\n",
        "\n",
        "$$\n",
        "\\frac{f(x)}{g(x)}=\\frac{\\frac{e^{-x^2/2}}{\\sqrt{2\\pi}}}{\\frac{e^{-|x|}}{2}}=\\frac{2}{\\sqrt{2\\pi}}e^{-x^2/2+|x|} \\leq \\frac{2}{\\sqrt{2\\pi}}e^{1/2}\n",
        "$$\n",
        "\n",
        "Hence, $k = \\frac{2e^{\\frac{1}{2}}}{\\sqrt{2\\pi}}=1.3155$.\n",
        "\n",
        "The expected number of samples needed would then be $k = 1.3155$.\n",
        "\n",
        "The algorithm would be as followed:\n",
        "* we generate a sample $X$ from $g$ and accept the sample with probability $f(X)/kg(X)$\n",
        "* This can be implemented by sampling $U$ uniformly over (0, 1) and accepting $X$ if $U < f(X) /[kg(X)]$.\n",
        "* If $X$ is rejected, a new candidate is sampled from $g$ and the acceptance test applied again.\n",
        "* The process repeats until the acceptance test is passed; the accepted candidate is a sample from f"
      ],
      "metadata": {
        "id": "mSdPumyUQQKn"
      }
    },
    {
      "cell_type": "markdown",
      "metadata": {
        "id": "8Uoi08eu9iVD"
      },
      "source": [
        "___\n",
        "**(c)** Generate $1000$ samples from your method in part (b), and plot the histogram of the samples. Also report the average and 95\\% CI for the number of $U[0,1]$ samples needed to generate the $1000$ samples.\n",
        "___"
      ]
    },
    {
      "cell_type": "code",
      "execution_count": 120,
      "metadata": {
        "id": "5qVDE0RTDMIZ"
      },
      "outputs": [],
      "source": [
        "def fOverG(x):\n",
        "  return np.exp(-x**2/2+np.abs(x)-0.5)\n",
        "\n",
        "def generate_4c(N):\n",
        "  samples = []\n",
        "  i = 0\n",
        "\n",
        "  while len(samples) < N:\n",
        "    i +=1\n",
        "    x = generate_4a(1)[0]\n",
        "    u = np.random.uniform(0,1)\n",
        "    if u <= fOverG(x):\n",
        "      samples.append(x)\n",
        "\n",
        "  return i*2,samples"
      ]
    },
    {
      "cell_type": "code",
      "source": [
        "numbers,samples_4c = generate_4c(1000)\n",
        "plt.hist(samples_4c, density=True)"
      ],
      "metadata": {
        "colab": {
          "base_uri": "https://localhost:8080/",
          "height": 538
        },
        "id": "HwvGt-AlTw2a",
        "outputId": "538b195a-1d9c-403e-fd9d-a58dbc4a478c"
      },
      "execution_count": 121,
      "outputs": [
        {
          "output_type": "execute_result",
          "data": {
            "text/plain": [
              "(array([0.01009238, 0.04373366, 0.10597002, 0.2556737 , 0.39696706,\n",
              "        0.37846436, 0.29436117, 0.13792923, 0.04709779, 0.01177445]),\n",
              " array([-3.02952478, -2.43501702, -1.84050926, -1.2460015 , -0.65149374,\n",
              "        -0.05698598,  0.53752178,  1.13202954,  1.7265373 ,  2.32104506,\n",
              "         2.91555282]),\n",
              " <BarContainer object of 10 artists>)"
            ]
          },
          "metadata": {},
          "execution_count": 121
        },
        {
          "output_type": "display_data",
          "data": {
            "text/plain": [
              "<Figure size 640x480 with 1 Axes>"
            ],
            "image/png": "[encoded data removed]"
          },
          "metadata": {}
        }
      ]
    },
    {
      "cell_type": "code",
      "source": [
        "# Also report the average and 95% CI for the number of  𝑈[0,1]  samples needed to generate the  1000  samples.\n",
        "numbers = np.zeros(100)\n",
        "for i in range(100):\n",
        "  numbers[i],samples=generate_4c(1000)\n",
        "\n",
        "numbers"
      ],
      "metadata": {
        "colab": {
          "base_uri": "https://localhost:8080/"
        },
        "id": "JvWidU47UBU8",
        "outputId": "89e0ee1e-e681-4ef9-97bc-78c9c6ffca99"
      },
      "execution_count": 122,
      "outputs": [
        {
          "output_type": "execute_result",
          "data": {
            "text/plain": [
              "array([2592., 2612., 2620., 2600., 2582., 2586., 2604., 2684., 2638.,\n",
              "       2606., 2622., 2592., 2676., 2602., 2664., 2626., 2672., 2648.,\n",
              "       2642., 2636., 2610., 2700., 2586., 2622., 2728., 2712., 2658.,\n",
              "       2664., 2604., 2602., 2584., 2630., 2670., 2668., 2606., 2628.,\n",
              "       2708., 2674., 2712., 2606., 2658., 2536., 2660., 2662., 2690.,\n",
              "       2620., 2642., 2642., 2606., 2700., 2658., 2696., 2632., 2658.,\n",
              "       2632., 2678., 2618., 2688., 2584., 2606., 2630., 2678., 2596.,\n",
              "       2580., 2646., 2586., 2622., 2614., 2618., 2688., 2620., 2614.,\n",
              "       2632., 2600., 2704., 2572., 2682., 2642., 2650., 2652., 2660.,\n",
              "       2612., 2628., 2584., 2622., 2686., 2604., 2646., 2674., 2632.,\n",
              "       2576., 2674., 2612., 2662., 2608., 2590., 2634., 2642., 2600.,\n",
              "       2566.])"
            ]
          },
          "metadata": {},
          "execution_count": 122
        }
      ]
    },
    {
      "cell_type": "code",
      "source": [
        "mean_no = np.mean(numbers/1000)\n",
        "sd_no = np.std(numbers/1000)\n",
        "\n",
        "confint_lo = mean_no-1.96*sd_no\n",
        "confint_hi = mean_no+1.96*sd_no\n",
        "\n",
        "print(\"The average numbers: \",mean_no)\n",
        "print(\"The confidence interval: \", [confint_lo,confint_hi])"
      ],
      "metadata": {
        "colab": {
          "base_uri": "https://localhost:8080/"
        },
        "id": "OjDaYek4UwRW",
        "outputId": "3c95f677-3e65-4735-c3e0-c57c123c89ad"
      },
      "execution_count": 125,
      "outputs": [
        {
          "output_type": "stream",
          "name": "stdout",
          "text": [
            "The average numbers:  2.6348000000000003\n",
            "The confidence interval:  [2.5591470466934703, 2.7104529533065302]\n"
          ]
        }
      ]
    },
    {
      "cell_type": "markdown",
      "metadata": {
        "id": "s7pvcQl7pgbx"
      },
      "source": [
        "___\n",
        "**(d)** Now, suppose instead we choose the proposal distribution to be a Cauchy  distribution with pdf $g(x) = \\frac{1}{\\pi(1+x^2)}$. Describe and implement an inversion algorithm to get samples from this distribution, and plot the histogram of 1000 samples from this distribution.\n",
        "___"
      ]
    },
    {
      "cell_type": "markdown",
      "source": [
        "$$G(x)=\\int_{-\\infty}^{x}\\frac{1}{\\pi(1+t^2)}dt=\\frac{1}{\\pi}(tan^{-1}(x)-(-\\frac{1}{2}\\pi))=\\frac{tan^{-1}(x)}{\\pi}+\\frac{1}{2}\n",
        "$$\n",
        "\n",
        "$$G^{-1}(x)=tan(\\pi(x-\\frac{1}{2}))\n",
        "$$"
      ],
      "metadata": {
        "id": "Hr7JAD8PdWqi"
      }
    },
    {
      "cell_type": "markdown",
      "source": [
        "$\n",
        "\\frac{f(x)}{g(x)}=\\frac{\\frac{e^{-x^2/2}}{\\sqrt{2\\pi}}}{\\frac{1}{\\pi(1+x^2)}}=\\sqrt{\\frac{\\pi}{2}}(1+x^2)e^{-x^2/2}\n",
        "$\n",
        "\n",
        "Let $h(m)=(1+m)e^{-m/2}$, where $m \\geq 0$.\n",
        "\n",
        "The derivative $h'(m)=e^{-m/2}+(1+m)e^{-m/2}\\frac{1}{2}=e^{-m/2}(1-\\frac{1+m}{2})$\n",
        "\n",
        "$h'(m)=0 ⟺ m=1$\n",
        "\n",
        "Therefore, the maximum of $\\frac{f(x)}{g(x)}$ is obtained when $x^2=1$, which yields $k=\\frac{f(x)}{g(x)}|_{x^2=1}=\\sqrt{\\frac{\\pi}{2}} (2e^{-0.5})=1.5203$"
      ],
      "metadata": {
        "id": "9VW4yDe-tC7Y"
      }
    },
    {
      "cell_type": "code",
      "execution_count": 132,
      "metadata": {
        "id": "XepRuz8MpqoG"
      },
      "outputs": [],
      "source": [
        "def inverseCDF_4d(x):\n",
        "  result = np.tan((x-0.5)*np.pi)\n",
        "  return result\n",
        "\n",
        "def generateG_4d(N):\n",
        "  u = np.random.uniform(0,1,N)\n",
        "  x = inverseCDF_4d(u)\n",
        "  return x\n",
        "\n",
        "def fOverG_4d(x):\n",
        "  result = (1+x**2)*np.exp(-(x**2-1)/2)/2\n",
        "  return result\n",
        "\n",
        "def generateF_4d(N):\n",
        "  X = []\n",
        "  i = 0\n",
        "  while len(X) < N:\n",
        "    i +=1\n",
        "    x = generateG_4d(1)[0]\n",
        "    u = np.random.uniform(0,1)\n",
        "\n",
        "    if u <= fOverG_4d(x):\n",
        "      X.append(x)\n",
        "\n",
        "  return 2*i, X"
      ]
    },
    {
      "cell_type": "code",
      "source": [
        "samplesG_4d = generateG_4d(1000)\n",
        "plt.hist(samplesG_4d,density=True)\n",
        "plt.xlim(-np.pi/2,np.pi/2)"
      ],
      "metadata": {
        "colab": {
          "base_uri": "https://localhost:8080/",
          "height": 448
        },
        "id": "hzDTS0-lyAt8",
        "outputId": "c6cd213b-a450-4e47-be44-c5f608278552"
      },
      "execution_count": 135,
      "outputs": [
        {
          "output_type": "execute_result",
          "data": {
            "text/plain": [
              "(-1.5707963267948966, 1.5707963267948966)"
            ]
          },
          "metadata": {},
          "execution_count": 135
        },
        {
          "output_type": "display_data",
          "data": {
            "text/plain": [
              "<Figure size 640x480 with 1 Axes>"
            ],
            "image/png": "[encoded data removed]"
          },
          "metadata": {}
        }
      ]
    },
    {
      "cell_type": "markdown",
      "metadata": {
        "id": "lC7VSz_n9iVF"
      },
      "source": [
        "___\n",
        "**(e)** Repeat parts $(b)$ and $(c)$ for this proposal distribution.\n",
        "___"
      ]
    },
    {
      "cell_type": "markdown",
      "source": [
        "### Ans."
      ],
      "metadata": {
        "id": "vFu541LlPzQ2"
      }
    },
    {
      "cell_type": "code",
      "source": [
        "numbers, samples_4d = generateF_4d(1000)\n",
        "plt.hist(samples_4d,density=True)"
      ],
      "metadata": {
        "colab": {
          "base_uri": "https://localhost:8080/",
          "height": 538
        },
        "id": "qPaNFVmVi8Wb",
        "outputId": "43e0d776-9478-4564-b11f-77b8c2fa7ca4"
      },
      "execution_count": 133,
      "outputs": [
        {
          "output_type": "execute_result",
          "data": {
            "text/plain": [
              "(array([0.00322309, 0.04028863, 0.1208659 , 0.24334334, 0.38838242,\n",
              "        0.37387851, 0.24656643, 0.13698135, 0.05156945, 0.00644618]),\n",
              " array([-3.06500699, -2.44448456, -1.82396213, -1.2034397 , -0.58291727,\n",
              "         0.03760516,  0.65812759,  1.27865002,  1.89917245,  2.51969488,\n",
              "         3.14021731]),\n",
              " <BarContainer object of 10 artists>)"
            ]
          },
          "metadata": {},
          "execution_count": 133
        },
        {
          "output_type": "display_data",
          "data": {
            "text/plain": [
              "<Figure size 640x480 with 1 Axes>"
            ],
            "image/png": "[encoded data removed]"
          },
          "metadata": {}
        }
      ]
    },
    {
      "cell_type": "code",
      "execution_count": null,
      "metadata": {
        "id": "uzJE8B1ZsWoV"
      },
      "outputs": [],
      "source": []
    }
  ],
  "metadata": {
    "colab": {
      "provenance": [],
      "collapsed_sections": [
        "wmL74RyC9iUz"
      ]
    },
    "kernelspec": {
      "display_name": "Python 3",
      "language": "python",
      "name": "python3"
    },
    "language_info": {
      "codemirror_mode": {
        "name": "ipython",
        "version": 3
      },
      "file_extension": ".py",
      "mimetype": "text/x-python",
      "name": "python",
      "nbconvert_exporter": "python",
      "pygments_lexer": "ipython3",
      "version": "3.7.9"
    }
  },
  "nbformat": 4,
  "nbformat_minor": 0
}