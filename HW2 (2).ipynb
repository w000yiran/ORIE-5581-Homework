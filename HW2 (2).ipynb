{
 "cells": [
  {
   "cell_type": "markdown",
   "metadata": {
    "id": "MxoFPTTof33v"
   },
   "source": [
    "# ORIE 4580/5580/5581 Assignment 2\n",
    "\n",
    "#### Students: Yiran Wang (yw2588)"
   ]
  },
  {
   "cell_type": "markdown",
   "metadata": {
    "id": "54CO0k9tgKAJ"
   },
   "source": [
    "### Instructions\n",
    "\n",
    "\n",
    "* Due Friday September 8, at 11.59am on Gradescope.\n",
    "* Assignment .ipynb files available for download on [Canvas](https://canvas.cornell.edu/courses/56826#:~:text=Assignments-,Assignments,-Assignments%20Module%20publish). Do all your work in provided notebook (text answers typeset in markdown; show all required code and generate plots inline), and then generate and submit a pdf.\n",
    "* Ideally do assignments in groups of 2, and submit a single pdf with both names\n",
    "* Please show your work and clearly mark your answers.\n",
    "* You can use any code fragments given in class, found online (for example, on StackOverflow), or generated via Bard or ChatGPT (you are encouraged to use these for first drafts) **with proper referencing**. You can also discuss with others (again, please reference them if you do so); but you must write your final answers on your own as a team.\n",
    "\n",
    "\n",
    "\n",
    "### Suggested reading\n",
    "\n",
    "Chapters 4 and 6 of [Introduction to Probability](https://chance.dartmouth.edu/teaching_aids/books_articles/probability_book/book.html) by Grinstead and Snell. You can skip things that seem more advanced, like the Beta distribution in $Ch\\, 4$ and the part on queueing in $Ch\\,6$ - the part about paradoxes in probability is also strictly speaking not required$\\ldots$(but I would never recommend *not* reading that!)"
   ]
  },
  {
   "cell_type": "code",
   "execution_count": 1,
   "metadata": {
    "id": "sNVb3XlKf33w"
   },
   "outputs": [],
   "source": [
    "#importing necessary packages\n",
    "import numpy as np\n",
    "import matplotlib.pyplot as plt\n",
    "%matplotlib inline\n",
    "\n",
    "import random\n",
    "from matplotlib.collections import LineCollection"
   ]
  },
  {
   "cell_type": "markdown",
   "metadata": {
    "id": "cGCcGZKXn7F_"
   },
   "source": [
    "\n",
    "---\n",
    "\n",
    "---\n",
    "\n",
    "## Question 1: Practice with expectation and variance (25 pts)\n",
    "\n",
    "\n",
    "\n",
    "---\n",
    "\n",
    "\n",
    "**(a)** Given a coin which comes up *Heads* with probability $p$, let $N_p$ denote the number of times the coin is tossed until the first *Heads*. Argue that $$N_p = \\begin{cases} 1 & \\text{with probability } p\\\\ 1+\\tilde{N}_p & \\text{with probability } 1-p \\end{cases}$$\n",
    "where $\\tilde{N}_p$ is an independent random variable with the same distribution as $N_p$.\n",
    "Using this, show that $\\mathbb{E}[N_p] = 1/p$. Also use a similar argument to find $Var(N_p)$.\n",
    "\n",
    "*Note: The rv $N_p$ is said to be a Geometric$(p)$ rv; it has pmf $p(k) = (1-p)^{k-1}p$.*\n",
    "\n",
    "\n",
    "\n",
    "---\n",
    "\n"
   ]
  },
  {
   "cell_type": "markdown",
   "metadata": {
    "id": "jtpKXrGeoqTV"
   },
   "source": [
    "### Ans.\n",
    "\n",
    "$E[N_p] = p \\times 1 + (1-p) \\times E[1+N_p] = p + (1-p) + (1-p) E[1+N_p]$\n",
    "$ ⟹ E[N_p]= \\frac{1}{p}$\n",
    "\n",
    "\n",
    "$Var(N_p) = p \\times (1-\\frac{1}{p})^2 + (1-p) \\times E[(1+N_p-\\frac{1}{p})^2] = \\frac{(1-p)^2}{p} + (1-p) + (1-p)Var(N_p)$\n",
    "$ \\Longrightarrow Var(N_p) = \\frac{1-p}{p^2}$\n"
   ]
  },
  {
   "cell_type": "markdown",
   "metadata": {
    "id": "UqZYCOzjMCat"
   },
   "source": [
    "___\n",
    "\n",
    "**(b)** In the previous assignment you estimated $\\pi$ by sampling uniform random points $(X,Y)$ in $[-1,1]\\times[-1,1]$, and checking if they fell within the circle. Suppose instead you sampled $n$ points uniformly in $[0,1]\\times[0,1]$ and checked if $X^2+Y^2\\leq 1$. Let $N_c$ be the number of points satisfying this; what is $\\mathbb{E}[N_c]$ and $\\text{Var}(N_c)$? Can you use this to get a better estimate of $\\pi$ (i.e., with tighter confidence intervals given the same number of samples $n$)?\n",
    "\n",
    "___"
   ]
  },
  {
   "cell_type": "markdown",
   "metadata": {
    "id": "WeZA2DkzNQcE"
   },
   "source": [
    "### Ans.\n",
    "$E[N_c]=n \\pi /4$\n",
    "\n",
    "$Var(N_c) = n \\pi (4-\\pi) /16$\n",
    "\n",
    "No. The two methods are equivalent in the nature, and from the $E[N_c]$ and $Var(N_c)$ we could conclude that we can not get better estimates."
   ]
  },
  {
   "cell_type": "markdown",
   "metadata": {
    "id": "U25Qyhy3pL0J"
   },
   "source": [
    "---\n",
    "**(c)** The elevators in Rhodes Hall stop at $6$ floors. Suppose one morning you get in on the ground floor with $3$ other people, and each one of you wants to go to a floor in $\\{2,3,4,5,6\\}$ chosen uniformly at random, and independently of the others' choices. At how many floors will the elevator stop on average?\n",
    "\n",
    "\n",
    "---"
   ]
  },
  {
   "cell_type": "markdown",
   "metadata": {
    "id": "KRd2JKsBpa2W"
   },
   "source": [
    "### Ans.\n",
    "\n",
    "We first compute the probability.\n",
    "\n",
    "$P(N=1) = \\frac{5 \\choose 1}{5^4}=\\frac{5}{5^4}$\n",
    "\n",
    "$P(N=2) = \\frac{{5 \\choose 2}({4 \\choose 1}+{4 \\choose 2}+{4 \\choose 3})}{5^4}=\\frac{140}{5^4}$\n",
    "\n",
    "$P(N=3) = \\frac{{5 \\choose 3}({4 \\choose 2}{2 \\choose 1}+{4 \\choose 1}{3 \\choose 2}+{4 \\choose 1}{3 \\choose 1})}{5^4}=\\frac{360}{5^4}$\n",
    "\n",
    "$P(N=4) = \\frac{{5 \\choose 3} A_4^4}{5^4} = \\frac{120}{5^4}$\n",
    "\n",
    "$E[N] = ∑_i i P(N=i) = \\frac{1\\times5+2\\times140+3\\times360+4\\times120}{5^4}=\\frac{369}{125}=2.952$\n"
   ]
  },
  {
   "cell_type": "markdown",
   "metadata": {
    "id": "vnBeLBSSpmsF"
   },
   "source": [
    "---\n",
    "\n",
    "(d) For your next simulation homework, you pair up with a student you have not met before. At some point, you get bored of the homework, and decide to count how many common friends you have at Cornell. Suppose the total number of students at Cornell is $22,000$, out of which you have $500$ friends, and your homework partner has $440$. Assuming that for both of you, your friends form independent and uniform random samplings of the total student population, what is the expected number of friends you both have in common?\n",
    "\n",
    "---"
   ]
  },
  {
   "cell_type": "markdown",
   "metadata": {
    "id": "spdv-KpipzKE"
   },
   "source": [
    "### Ans.\n",
    "\n",
    "Expected number of friends $ = 22000 \\times \\frac{500}{22000} \\times \\frac{440}{22000}=10$"
   ]
  },
  {
   "cell_type": "markdown",
   "metadata": {
    "id": "qmO0bQhef33x"
   },
   "source": [
    "___\n",
    "___\n",
    "\n",
    "## Question 2: Pooled Testing (30 pts) ##\n",
    "\n",
    "\n",
    "In 2020 Fall, Cornell adopted pooled testing to test a large population with a limited number of Covid tests. In pooled testing a sample is taken from each person and split into two subsamples. The first subsample from each person is pooled with those of $n-1$ other people into a single pooled sample of size $n$ people. (Cornell eventually used $n=5$.) If the pooled test comes back negative, then we declare all $n$ people in the pool to be\n",
    "negative. If the pooled test comes back positive, we then individually test the second subsample from every person in the pool. In this question we'll explore the effects of different pool sizes $n$.\n",
    "\n",
    "---\n",
    "\n",
    "**(a)** The *prevalence* $p$ at the time of testing is defined to be the true fraction of people with Covid in the population. Now let $N$ be the number of (true) Covid-positive people in a pool of size $n$. What would you use as a model for the distribution of $N$, if you knew the $n$ people in the pool $(i)$ had never met each other in the last week, and $(ii)$ all lived in the same house. In each case, what is the mean and variance of $N$?\n",
    "\n",
    "---"
   ]
  },
  {
   "cell_type": "markdown",
   "metadata": {
    "id": "F2kHkbTdrBIT"
   },
   "source": [
    "### Ans.\n",
    "\n",
    "case (i)\n",
    "* $N \\sim Bin(n, p)$\n",
    "* $E[N]=np$\n",
    "* $Var(N)=np(1-p)$\n",
    "\n",
    "case (ii)\n",
    "\n",
    "* The distribution of $N$ is $\\begin{cases} n with probability p \\\\ 0 with probability 1-p \\end{cases}$\n",
    "* $E[N]=np$\n",
    "* $Var(N)=n^2p(1-p)$\n"
   ]
  },
  {
   "cell_type": "markdown",
   "metadata": {
    "id": "mIEZB79KrP0I"
   },
   "source": [
    "___\n",
    "\n",
    "**(b)** Suppose that the test has no *false positives* and no *false negatives*; it comes back positive if **anyone** in the pool is positive and comes back negative if all people in the pool are negative. Let $T$ be the number of tests you need to be *sure* of each persons status (i.e., if they are COVID positive or not). What is the distribution of $T$, and what is its mean and variance? Clearly state all assumptions you are making.\n",
    "\n",
    "---"
   ]
  },
  {
   "cell_type": "markdown",
   "metadata": {
    "id": "b5x-E30Ex9xK"
   },
   "source": [
    "### Ans.\n",
    "Let $p' = (1-p)^n$\n",
    "\n",
    "$E[T]=p'\\times1+(1-p')\\times(n+1) = n+1-np'$\n",
    "\n",
    "$Var(T)=p'\\times (n-np')^2+(1-p')\\times(np')^2=n^2p'(1-p')$\n",
    "\n",
    "The distribution of $N$ is $\\begin{cases} 1 with probability p' \\\\ n+1 with probability 1-p' \\end{cases}$\n",
    "\n",
    "\n",
    "Assumptions: everyone is independent of each other's status, which is the assumption of case (a)(i).  \n"
   ]
  },
  {
   "cell_type": "markdown",
   "metadata": {
    "id": "lVudUJOOyV8l"
   },
   "source": [
    "___\n",
    "\n",
    "**(c)** What is the pool size $n$ that minimizes the average number of tests per person when the prevalence is $0.0001$? What about when prevalence is $0.01$? You should do this numerically using plots (i.e., without calculus), as this is helps explain your recommendation to decision-makers (note though that you may want to test different ranges of $n$ for each setting).\n",
    "\n",
    "---"
   ]
  },
  {
   "cell_type": "markdown",
   "metadata": {
    "id": "FlZqL3MPzO6a"
   },
   "source": [
    "### Ans.\n",
    "\n",
    "Average number of tests per person $= E[T]/n = 1 + 1/n - (1-p)^n$\n"
   ]
  },
  {
   "cell_type": "code",
   "execution_count": 2,
   "metadata": {
    "id": "pko5OogAzfrn"
   },
   "outputs": [],
   "source": [
    "# define function to compute\n",
    "def noTestAverage(n,p):\n",
    "    return 1 + 1/n - (1-p)**n\n",
    "\n",
    "\n",
    "def plotPoolSize(p1,p2,nlo,nhi):\n",
    "    no_expected1 = []\n",
    "    no_expected2 = []\n",
    "\n",
    "    for i in range(nlo,nhi+1):\n",
    "      no_expected1.append(noTestAverage(i,p1))\n",
    "      no_expected2.append(noTestAverage(i,p2))\n",
    "\n",
    "    plt.plot(range(nlo,nhi+1),no_expected1)\n",
    "    plt.plot(range(nlo,nhi+1),no_expected2)\n",
    "    plt.show()\n",
    "\n",
    "    return no_expected1, no_expected2"
   ]
  },
  {
   "cell_type": "code",
   "execution_count": 3,
   "metadata": {
    "colab": {
     "base_uri": "https://localhost:8080/",
     "height": 430
    },
    "id": "RGiDJY8-j_Jk",
    "outputId": "46d9580f-393f-4c9d-da60-b2070c744372"
   },
   "outputs": [
    {
     "data": {
      "image/png": "[encoded data removed]",
      "text/plain": [
       "<Figure size 432x288 with 1 Axes>"
      ]
     },
     "metadata": {
      "needs_background": "light"
     },
     "output_type": "display_data"
    }
   ],
   "source": [
    "no_expected_p1, no_expected_p2 = plotPoolSize(0.0001,0.01,1,200)"
   ]
  },
  {
   "cell_type": "markdown",
   "metadata": {
    "id": "d8jKSCMjlUzE"
   },
   "source": [
    "From the orange curve ($p = 0.01$), the optimal $n$ would be around $10$. For the case of $p=0.0001$, we need to take a closer look as below, which gives an optimal $n$ around $100$."
   ]
  },
  {
   "cell_type": "code",
   "execution_count": 4,
   "metadata": {
    "colab": {
     "base_uri": "https://localhost:8080/",
     "height": 435
    },
    "id": "Hsvto7mzktGN",
    "outputId": "d8497aea-f191-400c-e14a-038cd0b112ec"
   },
   "outputs": [
    {
     "data": {
      "image/png": "[encoded data removed]",
      "text/plain": [
       "<Figure size 432x288 with 1 Axes>"
      ]
     },
     "metadata": {
      "needs_background": "light"
     },
     "output_type": "display_data"
    }
   ],
   "source": [
    "plt.plot(no_expected_p1)\n",
    "plt.xlim(50,200)\n",
    "plt.ylim(0,0.05)\n",
    "plt.show()"
   ]
  },
  {
   "cell_type": "markdown",
   "metadata": {
    "id": "P_G3haZcpAfc"
   },
   "source": [
    "\n",
    "\n",
    "---\n",
    "\n",
    "*(d)* A more critical characteristic of pooled tests is the false negative rate, which is the probability that a test comes back negative when at least one person in the pool is Covid positive. False negatives are dangerous, because the person (or people) with Covid in the pool can infect others until Covid is otherwise detected or they become no longer infectious.\n",
    "\n",
    "You know that false negatives must be more likely when there is a low viral load in a sample. To understand how to model false negatives in PCR tests, you consult with your friend who is a biologist, who tells you that the viral load $V$ in a PCR sample is measured using something called the cycle threshold (CT) score of a PCR test, which is equivalent to $C = -\\log_2 V$. The viral load for a Covid-negative person is $V=0$. In a pooled sample of size $n$, each person contributes a fraction $1/n$ of the sample, and the resulting viral load has a total CT score of:\n",
    "$$-\\log_2 \\left(\\frac 1 n \\sum_{i=1}^n 2^{-C_i}\\right),$$\n",
    "where $C_1, C_2, \\ldots, C_n$ are the CT scores of each person in the pool. Finally, your friend recalls that probability $\\mathbb{P}[\\text{false positive test}|C]$ of a false negative in a single PCR test is well modeled either as\n",
    "$\\frac{1}{1 + \\exp(-10(C - 35))}$ or $\\frac{1}{1 + \\exp(10(C - 35))}$ (but he can not remember which one 🙁).\n",
    "\n",
    "Can you figure out what the correct model is?\n",
    "\n",
    "---\n",
    "\n"
   ]
  },
  {
   "cell_type": "markdown",
   "metadata": {
    "id": "b5GdqFCzsiTA"
   },
   "source": [
    "### Ans.\n",
    "\n",
    "The correct model is the first model.\n",
    "\n",
    "* When the viral load $V$ increases, the CT score $C$ decreases, and the probability of false positive decreases.\n",
    "* Therefore, the changes of $C$ and $P[false positive test|C]$ are in the same direction, and the first model agrees with this property."
   ]
  },
  {
   "cell_type": "markdown",
   "metadata": {
    "id": "-gl2YJrorGkf"
   },
   "source": [
    "\n",
    "\n",
    "---\n",
    "\n",
    "\n",
    "*(e)* You consult the epidemiology literature and find that the viral load for a Covid-positive person has been found from data to have a CT score $C$ that is well modeled via a *mixture of Gaussian* distribution as follows: with probability $0.40$, $C$ is $\\mathcal{N}(20, 3.5^2)$ (i.e., normally distributed with mean 20 and variance $3.5^2$); with probability $0.5$, $C$ is $\\mathcal{N}(30, 3^2)$, and otherwise,  $C$ is $\\mathcal{N}(34.78, 1.32^2)$.\n",
    "\n",
    "Use this data with the above model to estimate the probability of a false negative in a pooled test of size $n$ containing a single Covid-positive person as a function of $n$. You'll need to generate, say, $m$ replications of the pooled test at each value of $n$, where you should choose $m$ to ensure that your results are meaningful. Report your results as a graph with the false negative rate on the $y$-axis and the pool size $n$ ranging from 1 to 50 on the $x$-axis. Select your simulation runlength so that your estimates would be useful in practice (for example, estimates that are $\\pm$ 0.02 or so are sufficiently accurate).\n",
    "\n",
    "\n",
    "---\n"
   ]
  },
  {
   "cell_type": "markdown",
   "metadata": {
    "id": "7TgVoe_dseOb"
   },
   "source": [
    "### Ans.\n",
    "\n"
   ]
  },
  {
   "cell_type": "code",
   "execution_count": 5,
   "metadata": {
    "colab": {
     "base_uri": "https://localhost:8080/",
     "height": 472
    },
    "id": "jFM4NVNxz6Cw",
    "outputId": "a4fe646b-4534-44a5-8ec9-45cfed45839d"
   },
   "outputs": [
    {
     "data": {
      "image/png": "[encoded data removed]",
      "text/plain": [
       "<Figure size 432x288 with 1 Axes>"
      ]
     },
     "metadata": {
      "needs_background": "light"
     },
     "output_type": "display_data"
    }
   ],
   "source": [
    "def falseNegOnePool(n):\n",
    "  uniform1 = np.random.uniform(0,1)\n",
    "\n",
    "  if(uniform1 < 0.4):\n",
    "    ct_score = np.random.normal(loc=20, scale=3.5)\n",
    "  elif(uniform1 < 0.9):\n",
    "    ct_score = np.random.normal(loc=30, scale=3)\n",
    "  else:\n",
    "    ct_score = np.random.normal(loc=34.78,scale=1.32)\n",
    "\n",
    "  ct_total = -np.log(np.power(2,-ct_score)/n)/np.log(2)\n",
    "  prob_neg = 1/(1+np.exp(-10*(ct_total-35)))\n",
    "\n",
    "  return prob_neg\n",
    "\n",
    "def falseNegMPool(m,n):\n",
    "  prob = []\n",
    "  for i in range(m):\n",
    "    prob.append(falseNegOnePool(n))\n",
    "\n",
    "  rate_n = sum(prob)/len(prob)\n",
    "\n",
    "  return rate_n\n",
    "\n",
    "def falseNegN(m,nlo,nhi):\n",
    "  rate = []\n",
    "  for i in range(nlo,nhi+1):\n",
    "    rate.append(falseNegMPool(m,i))\n",
    "\n",
    "  return rate\n",
    "\n",
    "rate = falseNegN(m=10000,nlo=1,nhi=50)\n",
    "nseq = range(1,51)\n",
    "plt.scatter(nseq,rate)\n",
    "plt.title(\"The false negative probability when exactly one positive in the pool\")\n",
    "plt.xlabel(\"Pool Size\")\n",
    "plt.ylabel(\"False Negative Probability\")\n",
    "plt.show()"
   ]
  },
  {
   "cell_type": "markdown",
   "metadata": {
    "id": "l_IOsfDhf33y"
   },
   "source": [
    "## Question 3: Buffon and his magic needle (20 points)"
   ]
  },
  {
   "cell_type": "markdown",
   "metadata": {
    "id": "wyQBQHsERhuf"
   },
   "source": [
    "In the first class we saw Buffon's needle experiment in which we drop needles of length 1 on a floor of parallel lines that are equally spaced 1 unit apart. If we drop $n$ needles and $N_{cross}$ of them cross a line, then an estimate of $\\pi$ is $\\hat{\\pi}_n = 2n/N_{cross}$. We will now study how this works in practice (feel free to use the code provided in class)."
   ]
  },
  {
   "cell_type": "markdown",
   "metadata": {
    "id": "o5-ARlaCSEPy"
   },
   "source": [
    "\n",
    "---\n",
    "\n",
    "**(a)** For a range of values of $n$ between $10$ and $10,000$, perform $30$ replications of the Buffon needle experiment. For each value of $n$ you test, plot the average of the $30$ estimates $\\hat{\\pi}_n = n/N_{cross}$ and a 95\\% confidence interval for the expected value of $\\hat{\\pi}_n$. You should only be making one plot, with $n$ on the $x$-axis, and estimates and CIs on the $y$-axis.\n",
    "\n",
    "\n",
    "\n",
    "---\n",
    "\n"
   ]
  },
  {
   "cell_type": "markdown",
   "metadata": {
    "id": "JfPEcCaITWDS"
   },
   "source": [
    "### Ans."
   ]
  },
  {
   "cell_type": "code",
   "execution_count": 6,
   "metadata": {
    "id": "h4zzEtKlDj-o"
   },
   "outputs": [],
   "source": [
    "def buffon(N,length,dist,num_lines = 2,seed=-1):\n",
    "  # N: number of throws; length: length of toothpick; dist: distance between lines\n",
    "    if seed!=-1:\n",
    "      np.random.seed(seed)\n",
    "\n",
    "    # Generate random centers and angles of toothpicks\n",
    "    ycent = 1+(num_lines-1)*np.random.rand(N)\n",
    "    theta = (np.pi/2.0)*np.random.rand(N)\n",
    "\n",
    "    # Count number of times each toothpick touches a line\n",
    "    crossed = (ycent - np.floor(ycent) - (length/2.0)*np.sin(theta) < 0).astype(int) + (ycent - np.floor(ycent) + (length/2.0)*np.sin(theta) > dist).astype(int)\n",
    "\n",
    "    return sum(crossed)"
   ]
  },
  {
   "cell_type": "code",
   "execution_count": 7,
   "metadata": {
    "id": "8rwzEqLu5f49"
   },
   "outputs": [],
   "source": [
    "def buffonSim(nlo,nhi,m,length,dist):\n",
    "  #nlo,nhi: number of throws; m: replications of each n\n",
    "  pi_n = []\n",
    "  sd_n = []\n",
    "  cilo_n = []\n",
    "  cihi_n = []\n",
    "\n",
    "  for i in range(nlo,nhi+1):\n",
    "    pi_hat = []\n",
    "    for j in range(m):\n",
    "      n_cross=buffon(N=i,length=1,dist=1)\n",
    "      pi_hat.append(2*i/n_cross)\n",
    "\n",
    "    pi_n.append(np.mean(pi_hat))\n",
    "    sd_n.append(np.std(pi_hat))\n",
    "    cilo_n.append(pi_n[-1]-1.96*sd_n[-1])\n",
    "    cihi_n.append(pi_n[-1]+1.96*sd_n[-1])\n",
    "\n",
    "  return pi_n, sd_n, cilo_n, cihi_n"
   ]
  },
  {
   "cell_type": "code",
   "execution_count": 8,
   "metadata": {
    "id": "LjpJmjZeABWq"
   },
   "outputs": [],
   "source": [
    "nlo = 10; nhi = 10000; m = 30\n",
    "pi_n, sd_n, cilo_n, cihi_n = buffonSim(nlo,nhi,m,1,1)"
   ]
  },
  {
   "cell_type": "code",
   "execution_count": 9,
   "metadata": {
    "colab": {
     "base_uri": "https://localhost:8080/",
     "height": 435
    },
    "id": "VeyKo2hzGxO4",
    "outputId": "116a03f5-f0bc-4f4b-ea09-319c3bf44f83"
   },
   "outputs": [
    {
     "data": {
      "image/png": "[encoded data removed]",
      "text/plain": [
       "<Figure size 432x288 with 1 Axes>"
      ]
     },
     "metadata": {
      "needs_background": "light"
     },
     "output_type": "display_data"
    }
   ],
   "source": [
    "lines = []\n",
    "for i in range(len(pi_n)):\n",
    "  lines.append([(nlo+i,cilo_n[i]),(nlo+i,cihi_n[i])])\n",
    "\n",
    "line_segments = LineCollection(lines)\n",
    "\n",
    "fig, ax = plt.subplots()\n",
    "ax.set_xlim(5,10100)\n",
    "ax.set_ylim(1.5, 5)\n",
    "ax.add_collection(line_segments)\n",
    "\n",
    "plt.scatter(range(nlo,nhi+1),pi_n,color=\"red\",s=0.1,zorder = 10)\n",
    "plt.grid(True)"
   ]
  },
  {
   "cell_type": "markdown",
   "metadata": {
    "id": "CxV2yEmlSbkC"
   },
   "source": [
    "\n",
    "---\n",
    "\n",
    "**(b)** You may notice from your plot in part (a) that the estimator $\\hat{\\pi}_n$ has some *bias*, i.e., $\\mathbb{E}[\\hat{\\pi}_n] \\neq \\pi$ (this may be more apparent for small values of $n$). Pick a small value (say, $n=100$), and do more replications (i.e., do multiple experiments, where in each experiment you throw $100$ needles), and determine if $\\hat{\\pi}_n$ is an overestimate or underestimate for $\\pi$.\n",
    "\n",
    "\n",
    "---\n"
   ]
  },
  {
   "cell_type": "markdown",
   "metadata": {
    "id": "uFSg1RRwTUfb"
   },
   "source": [
    "### Ans.\n",
    "\n",
    "Based on the result $3.1743$, $\\hat{\\pi_n}$ is an overestimate for $\\pi$."
   ]
  },
  {
   "cell_type": "code",
   "execution_count": 10,
   "metadata": {
    "colab": {
     "base_uri": "https://localhost:8080/"
    },
    "id": "oWMHDHynTTuD",
    "outputId": "8ffec507-e0db-4c52-fe23-aecf92a8f505"
   },
   "outputs": [
    {
     "name": "stdout",
     "output_type": "stream",
     "text": [
      "[3.160913513140394]\n"
     ]
    }
   ],
   "source": [
    "pi_n, sd_n, cilo_n, cihi_n = buffonSim(100,100,100,1,1)\n",
    "print(pi_n)"
   ]
  },
  {
   "cell_type": "markdown",
   "metadata": {
    "id": "HU-lR4mMTe7Z"
   },
   "source": [
    "**(c)** Can you mathematically justify your observation from part (b)?"
   ]
  },
  {
   "cell_type": "markdown",
   "metadata": {
    "id": "YgNPNKKkTl8p"
   },
   "source": [
    "### Ans.\n",
    "\n",
    "Yes. By Jensen's Inequality, $E[\\hat{\\pi_n}] = E[f(N_{cross})] \\geq \\frac{2n}{E[N_{cross}]} = \\pi$. As a result, $\\hat{\\pi_n}$ would overestimate $\\pi$."
   ]
  },
  {
   "cell_type": "markdown",
   "metadata": {
    "id": "RIFfuf3eTn1j"
   },
   "source": [
    "**(d)** Note however that you can still use Buffon's experiment to get an estimate with $95$\\% confidence intervals for $\\mathbb{E}[\\frac{N_{\\text{cross}}}{n}]$. Using this, can you get a $95$\\% confidence interval for $\\pi$? (Note: this need not be symmetric about $\\pi$)."
   ]
  },
  {
   "cell_type": "markdown",
   "metadata": {
    "id": "VF3p6i6vJ3Kc"
   },
   "source": [
    "Yes.\n",
    "\n",
    "$N_{cross}\\sim bin(n, \\frac{2}{\\pi})$\n",
    "* $\\mu = E[\\frac{N_{cross}}{n}]=\\frac{2n}{\\pi}$\n",
    "* $\\sigma^2 = Var(\\frac{N_{cross}}{n})=\\frac{2(\\pi-2)}{n\\pi^2}$\n",
    "\n",
    "Let the 95% confidence interval for $E[\\frac{N_{cross}}{n}]$ be $(a,b)$\n",
    "* $(a,b)=(\\mu-1.96\\sigma,\\mu+1.96*sigma)$\n",
    "\n",
    "* This implies that $P(a \\leq \\frac{N_{cross}}{n} ≤ b) \\geq 0.95$.\n",
    "* Because $\\hat{\\pi} = \\frac{2n}{N_{cross}}$,\n",
    "* $a \\leq \\frac{N_{cross}}{n} ≤ b ⟹ \\frac{2}{b} \\leq \\hat{\\pi} ≤ \\frac{2}{a}$\n",
    "* $P(\\frac{2}{b} \\leq \\hat{\\pi} ≤ \\frac{2}{a}) \\geq P(a \\leq \\frac{N_{cross}}{n} ≤ b) \\geq 0.95$\n",
    "* Therefore, a 95% confidence interval would be given by $(\\frac{2}{b},\\frac{2}{a})$."
   ]
  },
  {
   "cell_type": "markdown",
   "metadata": {
    "id": "nvNTxd05UY-T"
   },
   "source": [
    "### Ans."
   ]
  },
  {
   "cell_type": "markdown",
   "metadata": {
    "id": "1YzsdFSPUatj"
   },
   "source": [
    "**(e) (Optional for everyone!)** Try to convince yourself (by linearity of expectation), that\n",
    "\n",
    "(i) If you randomly throw $n$ matches of length $\\ell$ and let $N^{\\ell}_{\\text{cross}}$ be a count of how many times these cross the lines, then $\\frac{\\mathbb{E}[N^{\\ell}_{\\text{cross}}]}{\\ell} = $ constant (in other words, the expected number of crossings is proportional to $\\ell$). Note: if $\\ell>1$, each match may cross multiple lines.\n",
    "\n",
    "(ii) The above result remains true if you throw *any* line segment (with any shape) of length $\\ell$. Using this, can you see an easy way to compute $\\mathbb{E}[N^{1}_{\\text{cross}}]$ (i.e., the probability of a match crossing a line in the original experiment)?"
   ]
  },
  {
   "cell_type": "markdown",
   "metadata": {
    "id": "4McZkHwYf33z"
   },
   "source": [
    "## Question 4: Overbooking (25 points)\n",
    "\n",
    "A website called Tixmaster is in charge of selling tickets for an upcoming Taylor Swift concert in Ithaca. The concert will take place in the State Theater, which has an official capacity of $1500$ seats. You believe however that Tixmaster has sold $1600$ tickets (representatives of the company, when contacted, denied this$\\ldots$).\n",
    "\n",
    "The show starts at 7pm, and if a ticket holder hasn't shown up by that time, then they are not allowed to enter anymore so as to not disturb the other attendees. From experience, you believe that there is a 95\\% chance that someone who has bought a ticket actually shows up by 7pm. and that people show up (or not) independently from one another."
   ]
  },
  {
   "cell_type": "markdown",
   "metadata": {
    "id": "Z3BowWcMz8Iw"
   },
   "source": [
    "\n",
    "\n",
    "---\n",
    "\n",
    "**(a)** You wait inside the State Theater and count the number of people entering. What is the probability that you will be able to prove that Tixmaster is overbooking? (You can do this with or without simulation)\n",
    "\n",
    "\n",
    "---"
   ]
  },
  {
   "cell_type": "markdown",
   "metadata": {
    "id": "DmaSH5iZ0zH-"
   },
   "source": [
    "### Ans."
   ]
  },
  {
   "cell_type": "code",
   "execution_count": 11,
   "metadata": {
    "colab": {
     "base_uri": "https://localhost:8080/"
    },
    "id": "ioFLA5eNdY0c",
    "outputId": "92bb06b1-291d-45fe-b7e3-ccf681f06c70"
   },
   "outputs": [
    {
     "data": {
      "text/plain": [
       "0.9851873005822536"
      ]
     },
     "execution_count": 11,
     "metadata": {},
     "output_type": "execute_result"
    }
   ],
   "source": [
    "from scipy.stats import binom\n",
    "\n",
    "r = 1 - binom.cdf(1500, 1600, 0.95)\n",
    "r"
   ]
  },
  {
   "cell_type": "markdown",
   "metadata": {
    "id": "lS424lQsdy53"
   },
   "source": [
    "If Tixmaster sold 1600 tickets, and show-up probability is $0.95$, the probability of proving overbooking is $0.9852$."
   ]
  },
  {
   "cell_type": "markdown",
   "metadata": {
    "id": "BS10dJ10f33z"
   },
   "source": [
    "**(b)** You manage to catch Tixmaster overbooking this time, and to prevent it in future, you decide to impose a fine to try and disincentivize overbooking. You know Tixmaster earns \\$100 in profit for every ticket sold (whether the holder shows up or not). You again have an agent counting how many people show up to the concert by $7$pm (you can not see how many are late or no-shows), and can charge Tixmaster a fine of \\$500 for each person exceeding the capacity.\n",
    "\n",
    "Use a simulation to estimate how many extra tickets (over 1600) Tixmaster will sell, if they are trying to maximize their expected profit (after paying any fines)."
   ]
  },
  {
   "cell_type": "markdown",
   "metadata": {
    "id": "mNoymDoVOMiB"
   },
   "source": [
    "### Ans.\n",
    "\n",
    "According to the simulation below, selling around $1575$ tickets would be the optimal in terms of getting more expected profit."
   ]
  },
  {
   "cell_type": "code",
   "execution_count": 12,
   "metadata": {
    "id": "xASeG8Xheobk"
   },
   "outputs": [],
   "source": [
    "# N: 1600 - 1700\n",
    "# simulate for each N m=50 times, and calculate mean profit\n",
    "\n",
    "def profit(N,m):\n",
    "  showups = np.random.binomial(N,0.95,m)\n",
    "  profit = N*100 - (showups > 1500)*(showups - 1500)*500\n",
    "  return np.mean(profit)\n",
    "\n",
    "def profitN(nlo,nhi,m):\n",
    "  profit_n = []\n",
    "  for i in range(nlo,nhi+1):\n",
    "    profit_n.append(profit(i,m))\n",
    "  return profit_n"
   ]
  },
  {
   "cell_type": "code",
   "execution_count": 13,
   "metadata": {
    "colab": {
     "base_uri": "https://localhost:8080/",
     "height": 430
    },
    "id": "g060ds_6gKW9",
    "outputId": "96bef844-dfc4-4bb2-e5b5-a7ea358af4a1"
   },
   "outputs": [
    {
     "data": {
      "image/png": "[encoded data removed]",
      "text/plain": [
       "<Figure size 432x288 with 1 Axes>"
      ]
     },
     "metadata": {
      "needs_background": "light"
     },
     "output_type": "display_data"
    }
   ],
   "source": [
    "profit_n = profitN(1500,1700,50)\n",
    "plt.scatter(range(1500,1701),profit_n,s=5)\n",
    "plt.grid(True)"
   ]
  },
  {
   "cell_type": "markdown",
   "metadata": {
    "id": "8c1LKlyBf33z"
   },
   "source": [
    "\n",
    "\n",
    "---\n",
    "\n",
    "\n",
    "\n",
    "**(c) (For 5580/5581 students; optional for 4580)** Finally, you decide to stamp down on any overbooking by setting a large enough penalty so that Tixmaster does not find it profitable to sell even one extra ticket. Use simulation to find a fee $F$ charged per person over $1600$ admitted to the theater, such that it stops overbooking. (Ideally, try to propose as small an $F$ as possible, so that the city government feels it is practical to implement).\n",
    "\n",
    "*(Note: This sort of a problem where you want to optimize a parameter via simulation is difficult. We will see some ways to do this more efficiently later in class; however, for this problem, it is easy to do a search over potential values of $F$ to find the first time that overbooking by even $1$ ticket becomes unprofitable.)*\n",
    "\n",
    "\n",
    "---\n",
    "\n"
   ]
  },
  {
   "cell_type": "markdown",
   "metadata": {
    "id": "rN21bzkORLVg"
   },
   "source": [
    "### Ans."
   ]
  },
  {
   "cell_type": "code",
   "execution_count": null,
   "metadata": {
    "id": "2M5NJnUCf33z"
   },
   "outputs": [],
   "source": []
  }
 ],
 "metadata": {
  "colab": {
   "provenance": []
  },
  "kernelspec": {
   "display_name": "Python 3 (ipykernel)",
   "language": "python",
   "name": "python3"
  },
  "language_info": {
   "codemirror_mode": {
    "name": "ipython",
    "version": 3
   },
   "file_extension": ".py",
   "mimetype": "text/x-python",
   "name": "python",
   "nbconvert_exporter": "python",
   "pygments_lexer": "ipython3",
   "version": "3.9.12"
  }
 },
 "nbformat": 4,
 "nbformat_minor": 1
}
